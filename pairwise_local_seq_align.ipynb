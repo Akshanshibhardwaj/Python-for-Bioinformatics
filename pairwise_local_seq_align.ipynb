{
 "cells": [
  {
   "cell_type": "code",
   "execution_count": 16,
   "metadata": {},
   "outputs": [
    {
     "name": "stdout",
     "output_type": "stream",
     "text": [
      "1 ATGTGACGATGCGA\n",
      "  |    | | |||||\n",
      "1 A----A-G-TGCGA\n",
      "  Score=8\n",
      "\n"
     ]
    }
   ],
   "source": [
    "# Performing local pairwise sequence aligment using Biopython \n",
    "\n",
    "from Bio import pairwise2\n",
    "from Bio.pairwise2 import format_alignment\n",
    "\n",
    "# sequences to be aligned\n",
    "seq_1 = \"ATGTGACGATGCGAT\"\n",
    "seq_2 = \"AAGTGCGA\"\n",
    "\n",
    "# The names of the alignment functions in this module follow the convention <alignment type>XX \n",
    "# here <alignment type> is “local” \n",
    "# and XX is a 2 character code indicating the parameters it takes \n",
    "alignments = pairwise2.align.localxx(seq_1, seq_2) \n",
    "\n",
    "# pairwise2.align.localxx(seq_1, seq_2)  returns the list of all local alignments between the 2 sequences\n",
    "# to view the alignments in a proper format we use format_alignment method\n",
    "# we are just viewing the first alignment from the list of all the alignments\n",
    "# for local alignment, format_alignment method  will only show the aligned parts of the sequences\n",
    "print(format_alignment(*alignments[0])) # using * to unpack alignment before passong in to format_alignment"
   ]
  }
 ],
 "metadata": {
  "kernelspec": {
   "display_name": "Python 3",
   "language": "python",
   "name": "python3"
  },
  "language_info": {
   "codemirror_mode": {
    "name": "ipython",
    "version": 3
   },
   "file_extension": ".py",
   "mimetype": "text/x-python",
   "name": "python",
   "nbconvert_exporter": "python",
   "pygments_lexer": "ipython3",
   "version": "3.6.4"
  }
 },
 "nbformat": 4,
 "nbformat_minor": 2
}
