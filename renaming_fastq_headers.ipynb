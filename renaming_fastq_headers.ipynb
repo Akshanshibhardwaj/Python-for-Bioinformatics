{
 "cells": [
  {
   "cell_type": "code",
   "execution_count": 8,
   "metadata": {},
   "outputs": [],
   "source": [
    "# RENAMING THE HEADERS OF A FASTQ FILE\n",
    "# THE FOLLOWING ARE THE SAMPLE FIRST TWO SEQUENCES OF THE FASTQ FILE:\n",
    "# @No name\n",
    "# CAAGCGTGTCACCTATACCCCTCCGCCGGGGCAAAA\n",
    "# +\n",
    "# ????????DDBDDDDDFFFFF9CEEHCECHHHBFHFH\n",
    "# @No name\n",
    "# CCAACTGCTGTTCACACGGAACCTTTCCCCACTTCAG\n",
    "# +\n",
    "# BBBDDBDDDDDFFFFEFIIIIHIIIHHIIHHHHIIIF\n",
    "\n",
    "# THE SEQUENCES WILL BE RENAMED AS FOLLOWS GIVING A UNIQUE IDENTITY TO EACH READ:\n",
    "# @1_1\n",
    "# CAAGCGTGTCACCTATACCCCTCCGCCGGGGCAAAA\n",
    "# +\n",
    "# ????????DDBDDDDDFFFFF9CEEHCECHHHBFHFH\n",
    "# @1_2\n",
    "# CCAACTGCTGTTCACACGGAACCTTTCCCCACTTCAG\n",
    "# +\n",
    "# BBBDDBDDDDDFFFFEFIIIIHIIIHHIIHHHHIIIF"
   ]
  },
  {
   "cell_type": "code",
   "execution_count": 49,
   "metadata": {},
   "outputs": [],
   "source": [
    "# ENTER THE NAME/PATH OF YOUR INPUT FASTQ FILE \n",
    "input_fastq_file = r\"D:\\Python_for_Bioinformatics\\Facebook_Linkedin_content\\py\\noname_fastq.fastq\"\n",
    "\n",
    "# ENTER THE NAME/PATH OF YOUR OUTPUT FASTQ FILE\n",
    "output_fastq_file = r\"D:\\Python_for_Bioinformatics\\Facebook_Linkedin_content\\py\\withname_fastq.fastq\"\n",
    "\n",
    "# The generator function takes in the input fastq file, reads all the sequences as SeqRecord Objects\n",
    "# and modifies these attributes \"id\", \"name\", \"description\" to the  desired header\n",
    "def generator_func(input_fastq_file):\n",
    "    from Bio import SeqIO \n",
    "    fr = open(input_fastq_file,\"r\")\n",
    "    seq_records = SeqIO.parse(fr,\"fastq\")\n",
    "    i,j = 1,1\n",
    "    for seq_record in seq_records:\n",
    "        header = str(i)+\"_\"+str(j) # this will be equal to 1_1 for first sequence, 2_2 for second sequence and so on \n",
    "        seq_record.id = header\n",
    "        seq_record.name = header\n",
    "        seq_record.description = header\n",
    "        j += 1\n",
    "        yield seq_record \n",
    "    fr.close()\n",
    "\n",
    "fw = open(output_fastq_file,\"w\")\n",
    "modified_seq_records = generator_func(input_fastq_file) # fucnction call\n",
    "\n",
    "#WRITING THE MODIFIED SEQUENCE HEADERS OBJECTS TO OUR OUT FILE\n",
    "for modified_seq_record in modified_seq_records:\n",
    "    SeqIO.write(modified_seq_record, fw, \"fastq\")\n",
    "fw.close()\n"
   ]
  }
 ],
 "metadata": {
  "kernelspec": {
   "display_name": "Python 3",
   "language": "python",
   "name": "python3"
  },
  "language_info": {
   "codemirror_mode": {
    "name": "ipython",
    "version": 3
   },
   "file_extension": ".py",
   "mimetype": "text/x-python",
   "name": "python",
   "nbconvert_exporter": "python",
   "pygments_lexer": "ipython3",
   "version": "3.6.4"
  }
 },
 "nbformat": 4,
 "nbformat_minor": 2
}
