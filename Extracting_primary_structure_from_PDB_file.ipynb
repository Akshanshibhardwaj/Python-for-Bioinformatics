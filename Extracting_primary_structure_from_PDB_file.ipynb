{
 "cells": [
  {
   "cell_type": "code",
   "execution_count": null,
   "metadata": {},
   "outputs": [],
   "source": [
    "# DOWNLOADING PDB FILE \n",
    "# EXTRACTING PRIMARY STRUCTURE\n",
    "# SAVING IT TO A FASTA FILE\n",
    "\n",
    "from pathlib import Path\n",
    "from Bio.PDB import PDBList\n",
    "from Bio import SeqIO\n",
    "from Bio.SeqRecord import SeqRecord\n",
    "\n",
    "out_dir = Path(r\"D:\\Pycharm_project\\ML_Lab\") # destination path for our PDB file\n",
    "out_fasta_path = out_dir/\"fasta_from_pdb.fasta\" # destination path for out fasta file\n",
    "pdb_code = \"5H7A\" # PDB ID of our desired protein\n",
    "file_name = \"pdb\"+pdb_code+\".ent\"\n",
    "pdb_file_path = out_dir/file_name\n",
    "\n",
    "# try and except block to prevent re downloading the same file on multiple executions of the code\n",
    "try:\n",
    "    # trying to open the file\n",
    "    # will print the given error message if PDB file already exists\n",
    "    fr = open(pdb_file_path,\"r\")\n",
    "    fr.close()\n",
    "    print(\"pdb file already exist\")\t\n",
    "\n",
    "except:\n",
    "    # will download the file only if it doen not already exists\n",
    "    pdbl = PDBList()\n",
    "    pdbl.retrieve_pdb_file(pdb_code, pdir = out_dir, file_format = \"pdb\")"
   ]
  },
  {
   "cell_type": "code",
   "execution_count": null,
   "metadata": {},
   "outputs": [],
   "source": [
    "# Parsing primary structure from the PDB file\n",
    "record_list = SeqIO.parse(file_name,\"pdb-atom\")\n",
    "fasta_record_list = []\n",
    "for record in record_list:\n",
    "    header = \">\" + record.id\n",
    "    sequence = record.seq\n",
    "    fasta_record_list.append(SeqRecord(id = header, seq = sequence))\n",
    "\n",
    "# writing the primary structures to fasta file\n",
    "SeqIO.write(fasta_record_list,out_fasta_path,\"fasta\")\n",
    "print(\"Fasta file successfully created at: \", out_fasta_path )"
   ]
  }
 ],
 "metadata": {
  "kernelspec": {
   "display_name": "Python 3",
   "language": "python",
   "name": "python3"
  },
  "language_info": {
   "codemirror_mode": {
    "name": "ipython",
    "version": 3
   },
   "file_extension": ".py",
   "mimetype": "text/x-python",
   "name": "python",
   "nbconvert_exporter": "python",
   "pygments_lexer": "ipython3",
   "version": "3.6.4"
  }
 },
 "nbformat": 4,
 "nbformat_minor": 2
}
