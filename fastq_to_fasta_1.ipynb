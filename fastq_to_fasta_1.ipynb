{
 "cells": [
  {
   "cell_type": "code",
   "execution_count": 1,
   "metadata": {},
   "outputs": [
    {
     "name": "stdout",
     "output_type": "stream",
     "text": [
      "Fasta file 'fasta_converted_1.fasta' has been successfully created\n"
     ]
    }
   ],
   "source": [
    "# CONVERTING FASTQ(only reads) TO FASTA \n",
    "\n",
    "# Input: Fastq file\n",
    "# Output: Fasta file containing only the reads from the fastq file\n",
    "\n",
    "# Enter the name/path of input fastq file\n",
    "input_file = \"sample.fastq\"\n",
    "\n",
    "# Enter the name/path of output fasta file\n",
    "output_file = \"fasta_converted_1.fasta\"\n",
    "\n",
    "fr = open(input_file,\"r\")\n",
    "fw = open(output_file,\"w\")\n",
    "while True:\n",
    "    header = fr.readline().replace(\"@\",\">\")\n",
    "    fw.write(header)\n",
    "    read = fr.readline()\n",
    "    fw.write(read)\n",
    "    fr.readline()\n",
    "    fr.readline()\n",
    "    if len(header) == 0:\n",
    "        break\n",
    "fr.close()\n",
    "fw.close()\n",
    "print(f\"Fasta file '{output_file}' has been successfully created\")"
   ]
  }
 ],
 "metadata": {
  "kernelspec": {
   "display_name": "Python 3",
   "language": "python",
   "name": "python3"
  },
  "language_info": {
   "codemirror_mode": {
    "name": "ipython",
    "version": 3
   },
   "file_extension": ".py",
   "mimetype": "text/x-python",
   "name": "python",
   "nbconvert_exporter": "python",
   "pygments_lexer": "ipython3",
   "version": "3.6.4"
  }
 },
 "nbformat": 4,
 "nbformat_minor": 2
}
