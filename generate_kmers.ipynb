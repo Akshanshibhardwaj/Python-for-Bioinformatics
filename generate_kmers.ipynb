{
 "cells": [
  {
   "cell_type": "code",
   "execution_count": 3,
   "metadata": {},
   "outputs": [
    {
     "name": "stdout",
     "output_type": "stream",
     "text": [
      "{'TGA', 'GAG', 'AGA', 'TGC', 'GCA', 'ACG', 'CGA', 'GAT', 'GTG', 'ATA', 'ATG', 'CGT', 'GAC', 'CAG', 'GTA', 'TAG', 'AGT', 'AAC', 'TAA'}\n"
     ]
    }
   ],
   "source": [
    "# Generating all possible kmers(substrings) of a particular length from a DNA sequence\n",
    "\n",
    "dna = \"ATGACGTGCAGTAGACGATAGAGATAACGATGACGA\" # our input dna sequence\n",
    "k = 3 # length of the kmer\n",
    " \n",
    "kmers = set() # this set will store all the possible unique kmers (duplicates not allowed)\n",
    "for i in range(len(dna) - k +1): # looping from 0 to length of DNA-k+1\n",
    "    kmer = dna[i:i+k] # slicing DNA according to our kmer length\n",
    "    kmers.add(kmer) # adding kmer to our set kmers\n",
    "    \n",
    "print(kmers)"
   ]
  }
 ],
 "metadata": {
  "kernelspec": {
   "display_name": "Python 3",
   "language": "python",
   "name": "python3"
  },
  "language_info": {
   "codemirror_mode": {
    "name": "ipython",
    "version": 3
   },
   "file_extension": ".py",
   "mimetype": "text/x-python",
   "name": "python",
   "nbconvert_exporter": "python",
   "pygments_lexer": "ipython3",
   "version": "3.6.4"
  }
 },
 "nbformat": 4,
 "nbformat_minor": 2
}
