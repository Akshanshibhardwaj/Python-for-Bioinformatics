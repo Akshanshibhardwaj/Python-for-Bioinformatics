{
 "cells": [
  {
   "cell_type": "code",
   "execution_count": 15,
   "metadata": {},
   "outputs": [
    {
     "name": "stdout",
     "output_type": "stream",
     "text": [
      "A random pallindromic sequence of length 10 is: ACGCATGCGT\n"
     ]
    }
   ],
   "source": [
    "# GENERATE A RANDOM PALLINDROMIC DNA SEQUENCE OF A GIVEN LENGTH\n",
    "\n",
    "import random\n",
    "\n",
    "# dictionary that stores complement of each base\n",
    "complement = {'A':'T', 'T':'A', 'G':'C', 'C':'G'}\n",
    "\n",
    "# list that stores our 4 bases\n",
    "bases = ['A','T','G','C']\n",
    "\n",
    "N = 10 # required length of pallindromic sequence (should be even)\n",
    "\n",
    "pallindrome = [0]*N # this will later store our pallindromic DNA sequence\n",
    "\n",
    "# looping from 0 to N-1\n",
    "for i in range(N):\n",
    "    r = random.randint(0,3) # generates a random number between 0 and 3 including 0 and 3\n",
    "    base = bases[r] # fetching the base from the bases list according to r\n",
    "    pallindrome[i] = base # storing base at index i in the pallindrome list\n",
    "    pallindrome[N-i-1] = complement[bases[r]] # storing complement of the base at index N-i-1 in the pallindrome list \n",
    "    \n",
    "pallindrome = ''.join(pallindrome) # converting pallindrome list to a string\n",
    "print(f'A random pallindromic sequence of length {N} is: {pallindrome}')"
   ]
  }
 ],
 "metadata": {
  "kernelspec": {
   "display_name": "Python 3",
   "language": "python",
   "name": "python3"
  },
  "language_info": {
   "codemirror_mode": {
    "name": "ipython",
    "version": 3
   },
   "file_extension": ".py",
   "mimetype": "text/x-python",
   "name": "python",
   "nbconvert_exporter": "python",
   "pygments_lexer": "ipython3",
   "version": "3.6.4"
  }
 },
 "nbformat": 4,
 "nbformat_minor": 2
}
