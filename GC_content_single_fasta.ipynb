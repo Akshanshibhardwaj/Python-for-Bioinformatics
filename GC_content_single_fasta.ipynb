{
 "cells": [
  {
   "cell_type": "code",
   "execution_count": 8,
   "metadata": {},
   "outputs": [
    {
     "name": "stdout",
     "output_type": "stream",
     "text": [
      "Content of C:  21.62 %\n",
      "Content of G:  26.68 %\n"
     ]
    }
   ],
   "source": [
    "# Finding G and C content for a single fasta file\n",
    "\n",
    "# reading the input single fasta file\n",
    "fr=open('single_GC_input.fasta','r')\n",
    "\n",
    "seq = \"\" # this will store the entire fasta as a single string\n",
    "\n",
    "# looping over each line in our fasta file\n",
    "for line in fr:\n",
    "    if \">\" in line: # check if it a header line\n",
    "        continue\n",
    "    else:\n",
    "        line = line.rstrip(\"\\n\")\n",
    "        seq = seq+line\n",
    "        \n",
    "# closing the input file\n",
    "fr.close()\n",
    "\n",
    "total_len = len(seq) # this will store total number of bases in the sequence\n",
    "print('Content of C: ', round((seq.count(\"C\")/total_len)*100,2),'%') # finding and printing % of C\n",
    "print('Content of G: ', round((seq.count(\"G\")/total_len)*100,2),'%') # finding and printing % of G"
   ]
  }
 ],
 "metadata": {
  "kernelspec": {
   "display_name": "Python 3",
   "language": "python",
   "name": "python3"
  },
  "language_info": {
   "codemirror_mode": {
    "name": "ipython",
    "version": 3
   },
   "file_extension": ".py",
   "mimetype": "text/x-python",
   "name": "python",
   "nbconvert_exporter": "python",
   "pygments_lexer": "ipython3",
   "version": "3.6.4"
  }
 },
 "nbformat": 4,
 "nbformat_minor": 2
}
