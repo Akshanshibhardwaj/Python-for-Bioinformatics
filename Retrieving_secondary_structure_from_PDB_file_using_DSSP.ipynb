{
 "cells": [
  {
   "cell_type": "code",
   "execution_count": null,
   "metadata": {},
   "outputs": [],
   "source": [
    "# make sure you have 'dssp-2.0.4-win32.exe' file in your working directory \n",
    "# 'dssp-2.0.4-win32.exe' can be downloaded from https://github.com/ecapriotti/lb1-2/blob/master/dssp/dssp-2.0.4-win32.exe\n",
    "# Ubuntu and Mac users can refer to the following link for installing DSSP: https://ssbio.readthedocs.io/en/latest/instructions/dssp.html\n",
    "# dssp sample command: D:\\Pycharm_project\\ML_Lab\\PDB\\dssp-2.0.4-win32.exe-i 1crn.pdb -o 1crn.dssp\n",
    "\n",
    "from Bio.PDB import PDBList\n",
    "from pathlib import Path\n",
    "import os\n",
    "structure_id = \"1crn\"\n",
    "out_dir = Path(r\"D:\\Pycharm_project\\ML_Lab\") # destination path for our PDB file\n",
    "\n",
    "# downloading the PDB file\n",
    "pdbl = PDBList()\n",
    "pdbl.retrieve_pdb_file(structure_id, pdir = out_dir, file_format = \"pdb\")\n",
    "\n",
    "filename = \"pdb1crn.ent\"\n",
    "out_file = filename.split(\".\")[0]+\".dssp\"\n",
    "\n",
    "# command for parsing the secondary structure using DSSP\n",
    "command = r\"D:\\Pycharm_project\\ML_Lab\\PDB\\dssp-2.0.4-win32.exe -i \" + filename + \" -o \" + out_file\n",
    "\n",
    "os.system(command)\n",
    "print(\"Output dssp file successfully created at: \", out_dir/out_file)"
   ]
  }
 ],
 "metadata": {
  "kernelspec": {
   "display_name": "Python 3",
   "language": "python",
   "name": "python3"
  },
  "language_info": {
   "codemirror_mode": {
    "name": "ipython",
    "version": 3
   },
   "file_extension": ".py",
   "mimetype": "text/x-python",
   "name": "python",
   "nbconvert_exporter": "python",
   "pygments_lexer": "ipython3",
   "version": "3.6.4"
  }
 },
 "nbformat": 4,
 "nbformat_minor": 2
}
