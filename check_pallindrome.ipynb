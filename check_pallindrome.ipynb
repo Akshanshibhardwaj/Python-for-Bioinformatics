{
 "cells": [
  {
   "cell_type": "code",
   "execution_count": 10,
   "metadata": {},
   "outputs": [
    {
     "name": "stdout",
     "output_type": "stream",
     "text": [
      "ACCTAGGT is pallindromic\n"
     ]
    }
   ],
   "source": [
    "# Check whether a sequence is pallindromic or not\n",
    "# A dna sequence is pallindromic if it is same as its reverse complement\n",
    "from Bio.Seq import Seq\n",
    "dna = 'ACCTAGGT' # our input dna sequence as string\n",
    "dna = Seq(dna) # converting our input dna sequence to a Seq object\n",
    "reverse_complement = dna.reverse_complement() # finding reverse complement of dna\n",
    "# checking if dna is same as reverse complement\n",
    "if dna == reverse_complement: \n",
    "    print(f'{dna} is pallindromic')\n",
    "else:\n",
    "    print(f'{dna} is not pallindromic')"
   ]
  }
 ],
 "metadata": {
  "kernelspec": {
   "display_name": "Python 3",
   "language": "python",
   "name": "python3"
  },
  "language_info": {
   "codemirror_mode": {
    "name": "ipython",
    "version": 3
   },
   "file_extension": ".py",
   "mimetype": "text/x-python",
   "name": "python",
   "nbconvert_exporter": "python",
   "pygments_lexer": "ipython3",
   "version": "3.6.4"
  }
 },
 "nbformat": 4,
 "nbformat_minor": 2
}
