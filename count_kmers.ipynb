{
 "cells": [
  {
   "cell_type": "code",
   "execution_count": 1,
   "metadata": {},
   "outputs": [
    {
     "name": "stdout",
     "output_type": "stream",
     "text": [
      "{'ATG': 2, 'TGA': 2, 'GAC': 3, 'ACG': 4, 'CGT': 1, 'GTG': 1, 'TGC': 1, 'GCA': 1, 'CAG': 1, 'AGT': 1, 'GTA': 1, 'TAG': 2, 'AGA': 3, 'CGA': 3, 'GAT': 3, 'ATA': 2, 'GAG': 1, 'TAA': 1, 'AAC': 1}\n"
     ]
    }
   ],
   "source": [
    "# Finding the count of all possible kmers in a DNA sequence\n",
    "\n",
    "dna = \"ATGACGTGCAGTAGACGATAGAGATAACGATGACGA\" # our input dna sequence\n",
    "k = 3 # length of the kmer\n",
    "\n",
    "kmers = [] # this list stores all the generated kmers\n",
    "for i in range(len(dna) - k +1): # looping from 0 to length of DNA-k+1\n",
    "    kmer = dna[i:i+k] # slicing DNA according to our kmer length\n",
    "    kmers.append(kmer) # appending kmer to our list kmers\n",
    "kmer_count = {} # this dictionary will store the count of each of the kmers with kmer as key and count as value\n",
    "for i in range(len(kmers)): # looping over the length of our kmers list\n",
    "    if kmers[i] in kmer_count: # if the kmer is already present in our kmer_count dictionary \n",
    "        kmer_count[kmers[i]] += 1 # incrementing the count of that kmer by 1\n",
    "    else: # if the kmer is not already present in our kmer_count dictionary\n",
    "        kmer_count[kmers[i]] = 1 # initialising the count of that kmer as 1\n",
    "\n",
    "print(kmer_count)"
   ]
  }
 ],
 "metadata": {
  "kernelspec": {
   "display_name": "Python 3",
   "language": "python",
   "name": "python3"
  },
  "language_info": {
   "codemirror_mode": {
    "name": "ipython",
    "version": 3
   },
   "file_extension": ".py",
   "mimetype": "text/x-python",
   "name": "python",
   "nbconvert_exporter": "python",
   "pygments_lexer": "ipython3",
   "version": "3.6.4"
  }
 },
 "nbformat": 4,
 "nbformat_minor": 2
}
