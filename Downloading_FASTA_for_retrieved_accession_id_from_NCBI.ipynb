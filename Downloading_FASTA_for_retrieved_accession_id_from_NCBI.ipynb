{
 "cells": [
  {
   "cell_type": "code",
   "execution_count": null,
   "metadata": {},
   "outputs": [],
   "source": [
    "from Bio import Entrez\n",
    "from Bio import SeqIO\n",
    "Entrez.email = \"763936021a@gmail.com\"  \n",
    "\n",
    "##### fetching accession ids from ncbi ####\n",
    "database = \"nucleotide\"\n",
    "search_term = \"myoglobin homo sapiens\"\n",
    "id_type = \"acc\"\n",
    "ret_max = 10\n",
    "\n",
    "acc_handle = Entrez.esearch(db=database, term=search_term, retmax=ret_max, idtype = id_type)\n",
    "record = Entrez.read(acc_handle)\n",
    "\n",
    "retrieved_ids = record[\"IdList\"]\n",
    "print(\"Retrieved accesion ids: \",retrieved_ids)\n",
    "##### fetching accession ids from ncbi ####"
   ]
  },
  {
   "cell_type": "code",
   "execution_count": null,
   "metadata": {},
   "outputs": [],
   "source": [
    "#### downloading fasta for the fetched ids ####\n",
    "out_file = r\"D:\\Pycharm_project\\ML_Lab\\downloaded_fasta.fasta\"\n",
    "\n",
    "fasta_handle = Entrez.efetch(db=\"nucleotide\", id=retrieved_ids, rettype=\"fasta\", retmode=\"text\")\n",
    "\n",
    "# writing fasta records to out file \n",
    "with open(out_file,\"w\") as fw:\n",
    "    fw.write(fasta_handle.read())"
   ]
  },
  {
   "cell_type": "code",
   "execution_count": null,
   "metadata": {},
   "outputs": [],
   "source": [
    "# reading fasta records from out file\n",
    "fasta_records = SeqIO.parse(out_file, \"fasta\")\n",
    "\n",
    "for fasta_record in fasta_records:\n",
    "    print(fasta_record.description)\n",
    "    "
   ]
  }
 ],
 "metadata": {
  "kernelspec": {
   "display_name": "Python 3",
   "language": "python",
   "name": "python3"
  },
  "language_info": {
   "codemirror_mode": {
    "name": "ipython",
    "version": 3
   },
   "file_extension": ".py",
   "mimetype": "text/x-python",
   "name": "python",
   "nbconvert_exporter": "python",
   "pygments_lexer": "ipython3",
   "version": "3.6.4"
  }
 },
 "nbformat": 4,
 "nbformat_minor": 2
}
