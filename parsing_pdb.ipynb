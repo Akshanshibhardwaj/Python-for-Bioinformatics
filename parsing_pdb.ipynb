{
 "cells": [
  {
   "cell_type": "code",
   "execution_count": null,
   "metadata": {},
   "outputs": [],
   "source": [
    "# Extracting all amino acids with atom counts from PDB file\n",
    "\n",
    "amino_acids = {} # this dictionary will store the amino acids with their atom counts\n",
    "fr = open('demo.pdb','r') # opening PDB file in read mode\n",
    "# looping over each line in PDB file\n",
    "for line in fr:\n",
    "    line = line.split() # separating each element in a single line\n",
    "    id = line[0] # fetching the id\n",
    "    if id == 'ATOM': # check if we are reading the atoms\n",
    "        amino_acid = line[3] # fetching the amino acid\n",
    "        atom = line[-1] # fetching the atom\n",
    "        if amino_acid in amino_acids: # will execute if amino acid already present in amino_acids\n",
    "            if atom in amino_acids[amino_acid]: # will excute if atom already in amino_acids[amino_acid]\n",
    "                amino_acids[amino_acid][atom] += 1 # incrementing the count of atom by 1\n",
    "            else: # this will excute when we encounter a new atom for same amino acid\n",
    "                amino_acids[amino_acid][atom] = 1 # initialising the count of atom as 1    \n",
    "        else: # this will execute when we encounter a new amino acid\n",
    "            amino_acids[amino_acid] = {} # creating an empty dictionary inside our amino_acids dictionary\n",
    "            amino_acids[amino_acid][atom] = 1 # initialising the count of atom as 1\n",
    "print(amino_acids)      "
   ]
  }
 ],
 "metadata": {
  "kernelspec": {
   "display_name": "Python 3",
   "language": "python",
   "name": "python3"
  },
  "language_info": {
   "codemirror_mode": {
    "name": "ipython",
    "version": 3
   },
   "file_extension": ".py",
   "mimetype": "text/x-python",
   "name": "python",
   "nbconvert_exporter": "python",
   "pygments_lexer": "ipython3",
   "version": "3.6.4"
  }
 },
 "nbformat": 4,
 "nbformat_minor": 2
}
