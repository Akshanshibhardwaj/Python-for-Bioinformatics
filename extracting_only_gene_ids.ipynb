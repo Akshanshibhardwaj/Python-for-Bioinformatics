{
 "cells": [
  {
   "cell_type": "code",
   "execution_count": 4,
   "metadata": {},
   "outputs": [
    {
     "name": "stdout",
     "output_type": "stream",
     "text": [
      "Extracted 4008 gene ids from the sample_genome.gb\n",
      "Output file gene_ids.txt successfully created\n"
     ]
    }
   ],
   "source": [
    "# Extracting all the gene ids from the genbank file of a genome using Biopython\n",
    "# Writing the extracted gene ids to a output file 'gene_ids.txt'\n",
    "from Bio import SeqIO\n",
    "input_file = 'sample_genome.gb'\n",
    "output_file = 'gene_ids.txt'\n",
    "record = SeqIO.read(input_file,'genbank')\n",
    "gene_id_list = [] # will store all the gene ids extracted from this genbank file\n",
    "for feature in record.features: # looping over all the features in genbank file\n",
    "    if feature.type == 'gene': # if feature is a gene\n",
    "        gene_id = feature.qualifiers['db_xref'][0].split(':')[1] # extracting its id\n",
    "        gene_id_list.append(gene_id) # appending gene id to gene_id_list \n",
    "        \n",
    "# writing each gene id to output file 'gene_ids.txt'\n",
    "print(f'Extracted {len(gene_id_list)} gene ids from the {input_file}')\n",
    "fw = open(output_file,'w') \n",
    "for id in gene_id_list:\n",
    "    fw.write(id + '\\n')\n",
    "fw.close()\n",
    "print(f'Output file {output_file} successfully created')"
   ]
  }
 ],
 "metadata": {
  "kernelspec": {
   "display_name": "Python 3",
   "language": "python",
   "name": "python3"
  },
  "language_info": {
   "codemirror_mode": {
    "name": "ipython",
    "version": 3
   },
   "file_extension": ".py",
   "mimetype": "text/x-python",
   "name": "python",
   "nbconvert_exporter": "python",
   "pygments_lexer": "ipython3",
   "version": "3.6.4"
  }
 },
 "nbformat": 4,
 "nbformat_minor": 2
}
