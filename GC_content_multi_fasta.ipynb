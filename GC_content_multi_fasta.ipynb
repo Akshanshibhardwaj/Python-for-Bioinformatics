{
 "cells": [
  {
   "cell_type": "code",
   "execution_count": 11,
   "metadata": {},
   "outputs": [
    {
     "name": "stdout",
     "output_type": "stream",
     "text": [
      ">header1\n",
      "Content of C:  22.31 %\n",
      "Content of G:  28.46 %\n",
      "\n",
      ">header2\n",
      "Content of C:  23.44 %\n",
      "Content of G:  29.26 %\n",
      "\n",
      ">header3\n",
      "Content of C:  46.11 %\n",
      "Content of G:  18.33 %\n",
      "\n",
      ">header4\n",
      "Content of C:  34.04 %\n",
      "Content of G:  22.46 %\n"
     ]
    }
   ],
   "source": [
    "# Finding G and C content for a multi fasta file\n",
    "\n",
    "# reading the input multi fasta file\n",
    "fr=open('multi_GC_input.fasta','r')\n",
    "\n",
    "seq = \"\" # this will store the sequence of each fasta \n",
    "\n",
    "for line in fr: # looping over each line in our fasta file\n",
    "    if \">\" in line: # check if it is a header line\n",
    "        if seq != \"\": # check if the seq variable is an empty string or not\n",
    "            length = len(seq) # this will store the length of a fasta sequence\n",
    "            print('Content of C: ', round((seq.count(\"C\")/length)*100,2),'%') # finding and printing % of C\n",
    "            print('Content of G: ', round((seq.count(\"G\")/length)*100,2),'%') # finding and printing % of G\n",
    "            print(\"\")\n",
    "            seq = \"\" # again making seq as empty string to store the sequence of the next fasta sequence\n",
    "        print(line, end=\"\") # this line prints the header\n",
    "            \n",
    "    else: # if it is not a header line\n",
    "        line = line.rstrip(\"\\n\") # remove '\\n' from the end of the line\n",
    "        seq = seq+line # concatenate it to seq\n",
    "        \n",
    "# closing the input file\n",
    "fr.close()\n",
    "length = len(seq) # this will store the length of last fasta sequence\n",
    "print('Content of C: ', round((seq.count(\"C\")/length)*100,2),'%') # finding and printing % of C\n",
    "print('Content of G: ', round((seq.count(\"G\")/length)*100,2),'%') # finding and printing % of G"
   ]
  }
 ],
 "metadata": {
  "kernelspec": {
   "display_name": "Python 3",
   "language": "python",
   "name": "python3"
  },
  "language_info": {
   "codemirror_mode": {
    "name": "ipython",
    "version": 3
   },
   "file_extension": ".py",
   "mimetype": "text/x-python",
   "name": "python",
   "nbconvert_exporter": "python",
   "pygments_lexer": "ipython3",
   "version": "3.6.4"
  }
 },
 "nbformat": 4,
 "nbformat_minor": 2
}
