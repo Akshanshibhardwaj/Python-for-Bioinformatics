{
 "cells": [
  {
   "cell_type": "code",
   "execution_count": 7,
   "metadata": {},
   "outputs": [
    {
     "name": "stdout",
     "output_type": "stream",
     "text": [
      ">header1\n",
      "Content of C:  22.31 %\n",
      "Content of G:  28.46 %\n",
      "\n",
      ">header2\n",
      "Content of C:  23.0 %\n",
      "Content of G:  28.95 %\n",
      "\n",
      ">header3\n",
      "Content of C:  24.91 %\n",
      "Content of G:  28.07 %\n",
      "\n",
      ">header4\n",
      "Content of C:  28.04 %\n",
      "Content of G:  26.14 %\n"
     ]
    }
   ],
   "source": [
    "# Finding G and C content for a multi fasta file\n",
    "\n",
    "# reading the input multi fasta file\n",
    "fr=open('multi_GC_input.fasta','r')\n",
    "\n",
    "seq = \"\" # this will store the entire fasta as a single string\n",
    "\n",
    "# looping over each line in our fasta file\n",
    "for line in fr:\n",
    "    if \">\" in line: # check if it is a header line\n",
    "        if seq != \"\": # check if the seq variable is an empty string or not\n",
    "            length = len(seq) # this will store the length of a fasta sequence\n",
    "            print('Content of C: ', round((seq.count(\"C\")/length)*100,2),'%') # finding and printing % of C\n",
    "            print('Content of G: ', round((seq.count(\"G\")/length)*100,2),'%') # finding and printing % of G\n",
    "            print(\"\")\n",
    "        print(line, end=\"\") # this line prints the header\n",
    "            \n",
    "    else:\n",
    "        line = line.rstrip(\"\\n\")\n",
    "        seq = seq+line\n",
    "        \n",
    "# closing the input file\n",
    "fr.close()\n",
    "length = len(seq) # this will store the length of last fasta sequence\n",
    "print('Content of C: ', round((seq.count(\"C\")/length)*100,2),'%') # finding and printing % of C\n",
    "print('Content of G: ', round((seq.count(\"G\")/length)*100,2),'%') # finding and printing % of G"
   ]
  }
 ],
 "metadata": {
  "kernelspec": {
   "display_name": "Python 3",
   "language": "python",
   "name": "python3"
  },
  "language_info": {
   "codemirror_mode": {
    "name": "ipython",
    "version": 3
   },
   "file_extension": ".py",
   "mimetype": "text/x-python",
   "name": "python",
   "nbconvert_exporter": "python",
   "pygments_lexer": "ipython3",
   "version": "3.6.4"
  }
 },
 "nbformat": 4,
 "nbformat_minor": 2
}
