{
 "cells": [
  {
   "cell_type": "code",
   "execution_count": 16,
   "metadata": {},
   "outputs": [
    {
     "name": "stdout",
     "output_type": "stream",
     "text": [
      "Output fasta files have been successfully created\n"
     ]
    }
   ],
   "source": [
    "# EXTRACTING FASTA SEQUECNES WITH IDENTICAL HEADERS HAVING DIFFERENT LENGTHS\n",
    "\n",
    "# The extracted sequences will be stored in a fasta file with an index at end of the identical headers such as\n",
    "# header_1\n",
    "# header_2 ... and so on\n",
    "\n",
    "from Bio import SeqIO\n",
    "\n",
    "# Enter the name/path of your input fasta file here\n",
    "input_fasta = \"input_fasta.fasta\"\n",
    "\n",
    "def main(input_fasta):\n",
    "    # Reading the input fasta file\n",
    "    fr = open(input_fasta,\"r\")\n",
    "    records = SeqIO.parse(fr,\"fasta\")\n",
    "    \n",
    "    # Dictionary identical_headers now store only the headers for sequences with identical headers as its keys\n",
    "    identical_headers = getting_identical_header(records)\n",
    "    fr.close()\n",
    "    \n",
    "    # Again reading our input fasta file for fetching only those sequences which have identical headers\n",
    "    fr = open(input_fasta,\"r\")\n",
    "    records = SeqIO.parse(fr,\"fasta\")\n",
    "    \n",
    "    # Dictionary identical_headers now store the complete records for sequences with identical headers\n",
    "    identical_headers = getting_identical_header_records(records, identical_headers)\n",
    "    fr.close()\n",
    "    \n",
    "    # Modifying the headers before writing to the output files (adding index to the headers)\n",
    "    identical_headers = modifying_headers(identical_headers)\n",
    "    \n",
    "    # Writing the extracted sequences with identical headers to output fasta files\n",
    "    writing_identical_header_records(identical_headers)\n",
    "    \n",
    "    print(\"Output fasta files have been successfully created\")\n",
    "\n",
    "def modifying_headers(identical_headers):\n",
    "    for header in identical_headers:\n",
    "        for iteration,record in enumerate(identical_headers[header]):\n",
    "            record.description = record.description + \"_\" + str(iteration)\n",
    "    \n",
    "    return(identical_headers)\n",
    "            \n",
    "def writing_identical_header_records(identical_headers):\n",
    "    for iteration,header in enumerate(identical_headers):\n",
    "        out_file_name = \"out_file_\"+str(iteration)+\".fasta\"\n",
    "        fw = open(out_file_name,\"w\")\n",
    "        SeqIO.write(identical_headers[header], fw, \"fasta\")\n",
    "        fw.close()\n",
    "    \n",
    "def getting_identical_header_records(records, identical_headers):    \n",
    "    # Looping over each fasta record and checking for sequences with identical headers\n",
    "\n",
    "    for iteration, record in enumerate(records):\n",
    "        header = record.description\n",
    "        if header in identical_headers:\n",
    "            identical_headers[header].append(record)\n",
    "        \n",
    "    return identical_headers        \n",
    "    \n",
    "def getting_identical_header(records):\n",
    "    # Looping over each fasta record and storing the headers along with their counts in a dictionary\n",
    "    header_counts = {} # This dictionary stores the headers along with their counts\n",
    "\n",
    "    for record in records:\n",
    "        header = record.description\n",
    "        if header not in header_counts.keys():\n",
    "            header_counts[header] = 1\n",
    "        else:\n",
    "            header_counts[header] += 1\n",
    "    \n",
    "    # fetching only the identical headers from the dictionary header_counts\n",
    "    identical_headers = {} # This list stores the identical headers\n",
    "\n",
    "    for header in header_counts:\n",
    "        if header_counts[header] > 1:\n",
    "            identical_headers[header] = []\n",
    "    \n",
    "    return identical_headers\n",
    "\n",
    "# Calling main function\n",
    "main(input_fasta)\n",
    "        \n",
    "        \n",
    "        "
   ]
  },
  {
   "cell_type": "code",
   "execution_count": 6,
   "metadata": {},
   "outputs": [
    {
     "name": "stdout",
     "output_type": "stream",
     "text": [
      "6 6\n",
      "6 8\n"
     ]
    }
   ],
   "source": [
    "\n",
    "b = 6\n",
    "a = b\n",
    "print(a,b)\n",
    "b = 8\n",
    "print(a,b)"
   ]
  }
 ],
 "metadata": {
  "kernelspec": {
   "display_name": "Python 3",
   "language": "python",
   "name": "python3"
  },
  "language_info": {
   "codemirror_mode": {
    "name": "ipython",
    "version": 3
   },
   "file_extension": ".py",
   "mimetype": "text/x-python",
   "name": "python",
   "nbconvert_exporter": "python",
   "pygments_lexer": "ipython3",
   "version": "3.6.4"
  }
 },
 "nbformat": 4,
 "nbformat_minor": 2
}
